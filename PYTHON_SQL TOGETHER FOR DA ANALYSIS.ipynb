{
 "cells": [
  {
   "cell_type": "code",
   "execution_count": null,
   "id": "4d7e077d",
   "metadata": {},
   "outputs": [],
   "source": [
    "import sqlite3\n",
    "import pandas as pd\n",
    "import matplotlib.pyplot as plt\n",
    "import random\n",
    "#import the data set required"
   ]
  },
  {
   "cell_type": "code",
   "execution_count": 2,
   "id": "f979aa79",
   "metadata": {},
   "outputs": [],
   "source": [
    "\n",
    "# Create a SQLite connection\n",
    "conn = sqlite3.connect(\"sales_data.db\")\n",
    "cursor = conn.cursor()"
   ]
  },
  {
   "cell_type": "code",
   "execution_count": 4,
   "id": "9e3eee9c",
   "metadata": {},
   "outputs": [
    {
     "name": "stdout",
     "output_type": "stream",
     "text": [
      "DB CREATED...SUCCESSFULLY\n"
     ]
    }
   ],
   "source": [
    "\n",
    "\n",
    "# Create the sales_summary table with an auto-incrementing id column\n",
    "cursor.execute('''\n",
    "CREATE TABLE IF NOT EXISTS sales_summary (\n",
    "    id INTEGER PRIMARY KEY AUTOINCREMENT,\n",
    "    product TEXT,\n",
    "    quantity INTEGER,\n",
    "    price REAL\n",
    ")\n",
    "''')\n",
    "print(\"DB CREATED...SUCCESSFULLY\")"
   ]
  },
  {
   "cell_type": "code",
   "execution_count": 5,
   "id": "97082bb2",
   "metadata": {},
   "outputs": [],
   "source": [
    "\n",
    "# Define a list of fruits to choose from\n",
    "fruits = ['Apple', 'Banana', 'Cherry', 'Date', 'Elderberry', 'Fig', 'Grape', 'Honeydew', 'Kiwi', 'Lemon']\n",
    "\n",
    "# Insert 100 rows of random data into the table\n",
    "sales_data = []\n",
    "for _ in range(100):\n",
    "    product = random.choice(fruits)  # Randomly choose a fruit\n",
    "    quantity = random.randint(1, 50)  # Random quantity between 1 and 50\n",
    "    price = round(random.uniform(0.99, 9.99), 2)  # Random price between $0.99 and $9.99\n",
    "    sales_data.append((product, quantity, price))"
   ]
  },
  {
   "cell_type": "code",
   "execution_count": 6,
   "id": "13597d02",
   "metadata": {},
   "outputs": [],
   "source": [
    "\n",
    "# Insert the random data into the table\n",
    "cursor.executemany('''\n",
    "INSERT INTO sales_summary (product, quantity, price) VALUES (?, ?, ?)\n",
    "''', sales_data)\n",
    "\n",
    "# Commit the changes and close the connection\n",
    "conn.commit()"
   ]
  },
  {
   "cell_type": "code",
   "execution_count": 7,
   "id": "5a5ac167",
   "metadata": {},
   "outputs": [],
   "source": [
    "\n",
    "# Step 2: Query the sales data and display it\n",
    "\n",
    "# 1. Total quantity sold for each fruit\n",
    "query_qty = '''\n",
    "SELECT product, SUM(quantity) AS total_qty\n",
    "FROM sales_summary\n",
    "GROUP BY product\n",
    "'''\n",
    "\n",
    "# Load the total quantity data into a pandas DataFrame\n",
    "df_qty = pd.read_sql_query(query_qty, conn)\n",
    "\n",
    "# 2. Average price per fruit\n",
    "query_avg_price = '''\n",
    "SELECT product, AVG(price) AS avg_price\n",
    "FROM sales_summary\n",
    "GROUP BY product\n",
    "'''\n",
    "\n",
    "# Load the average price data into a pandas DataFrame\n",
    "df_avg_price = pd.read_sql_query(query_avg_price, conn)\n",
    "\n",
    "# 3. Total revenue per fruit\n",
    "query_revenue = '''\n",
    "SELECT product, SUM(quantity * price) AS revenue\n",
    "FROM sales_summary\n",
    "GROUP BY product\n",
    "'''\n",
    "\n",
    "# Load the revenue data into a pandas DataFrame\n",
    "df_revenue = pd.read_sql_query(query_revenue, conn)\n",
    "\n",
    "# Close the connection\n",
    "conn.close()\n"
   ]
  },
  {
   "cell_type": "code",
   "execution_count": 8,
   "id": "016f8cf3",
   "metadata": {},
   "outputs": [
    {
     "name": "stdout",
     "output_type": "stream",
     "text": [
      "Total Quantity Sold per Fruit:\n",
      "       product  total_qty\n",
      "0       Apple        484\n",
      "1      Banana        761\n",
      "2      Cherry        663\n",
      "3        Date        605\n",
      "4  Elderberry        523\n",
      "5         Fig        670\n",
      "6       Grape        625\n",
      "7    Honeydew        570\n",
      "8        Kiwi        212\n",
      "9       Lemon        574\n",
      "\n",
      "Average Price per Fruit:\n",
      "       product  avg_price\n",
      "0       Apple   5.080000\n",
      "1      Banana   5.554000\n",
      "2      Cherry   4.455238\n",
      "3        Date   5.894762\n",
      "4  Elderberry   6.695294\n",
      "5         Fig   5.900714\n",
      "6       Grape   5.302083\n",
      "7    Honeydew   5.294211\n",
      "8        Kiwi   5.596364\n",
      "9       Lemon   5.733333\n",
      "\n",
      "Total Revenue per Fruit:\n",
      "       product  revenue\n",
      "0       Apple  2417.44\n",
      "1      Banana  4206.82\n",
      "2      Cherry  2961.13\n",
      "3        Date  3743.36\n",
      "4  Elderberry  3400.33\n",
      "5         Fig  4153.06\n",
      "6       Grape  3101.71\n",
      "7    Honeydew  3161.79\n",
      "8        Kiwi  1165.78\n",
      "9       Lemon  3511.00\n"
     ]
    }
   ],
   "source": [
    "\n",
    "# Print the results\n",
    "print(\"Total Quantity Sold per Fruit:\\n\", df_qty)\n",
    "print(\"\\nAverage Price per Fruit:\\n\", df_avg_price)\n",
    "print(\"\\nTotal Revenue per Fruit:\\n\", df_revenue)"
   ]
  },
  {
   "cell_type": "code",
   "execution_count": null,
   "id": "009daf44",
   "metadata": {},
   "outputs": [],
   "source": [
    "\n",
    "# Step 3: Create charts for each query\n",
    "\n",
    "# Chart 1: Total Quantity Sold per Fruit\n",
    "df_qty.plot(kind='bar', x='product', y='total_qty', title='Total Quantity Sold per Fruit', color='skyblue')\n",
    "plt.xlabel('Fruit')\n",
    "plt.ylabel('Quantity Sold')\n",
    "plt.savefig(\"quantity_chart.png\")\n",
    "plt.show()\n"
   ]
  }
 ],
 "metadata": {
  "kernelspec": {
   "display_name": "Python 3",
   "language": "python",
   "name": "python3"
  },
  "language_info": {
   "codemirror_mode": {
    "name": "ipython",
    "version": 3
   },
   "file_extension": ".py",
   "mimetype": "text/x-python",
   "name": "python",
   "nbconvert_exporter": "python",
   "pygments_lexer": "ipython3",
   "version": "3.13.2"
  }
 },
 "nbformat": 4,
 "nbformat_minor": 5
}
